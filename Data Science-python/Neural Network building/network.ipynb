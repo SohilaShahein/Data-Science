{
 "cells": [
  {
   "cell_type": "code",
   "execution_count": 7,
   "id": "6911c107-3945-44e1-af3e-16dbc60b4fe6",
   "metadata": {},
   "outputs": [],
   "source": [
    "import numpy as np\n",
    "class neural():\n",
    "    def __init__(self):\n",
    "        np.random.seed(1)\n",
    "        self.weights = 2*np.random.random((3,1))-1\n",
    "    def sigmoid(self,x):\n",
    "        return 1/(1+np.exp(-x))\n",
    "    def deriv_sigmoid(self,x):\n",
    "        return x*(1-x)\n",
    "    def predict(self,input):\n",
    "        output=self.sigmoid(np.dot(input,self.weights))\n",
    "        return output\n",
    "    def training(self,input_train,output_train,iteration_rate):\n",
    "        for i in range(iteration_rate):\n",
    "            output=self.predict(input_train)\n",
    "            error=output_train-output\n",
    "            delta_w = np.dot(input_train,error*self.deriv_sigmoid(output))\n",
    "            self.weights+=delta_w\n",
    "            \n",
    "        \n",
    "        "
   ]
  },
  {
   "cell_type": "code",
   "execution_count": 6,
   "id": "9e7754d4-7d5d-4365-83fd-58752ce98797",
   "metadata": {},
   "outputs": [
    {
     "name": "stdout",
     "output_type": "stream",
     "text": [
      "The input is: [[0 1 1]\n",
      " [0 0 1]\n",
      " [1 0 1]]\n",
      "The Initial Weights is:  [[-0.16595599]\n",
      " [ 0.44064899]\n",
      " [-0.99977125]]\n",
      "output [[0.36375058]\n",
      " [0.2689864 ]\n",
      " [0.23762817]]\n",
      "New output after training:  [[1.        ]\n",
      " [0.99990063]\n",
      " [0.99180812]]\n",
      "The Weights after training is:  [[-4.42018055]\n",
      " [10.02058566]\n",
      " [ 9.21656621]]\n"
     ]
    },
    {
     "name": "stdin",
     "output_type": "stream",
     "text": [
      "Enter first input 0\n",
      "Enter second input 0\n",
      "Enter third input 0\n"
     ]
    },
    {
     "name": "stdout",
     "output_type": "stream",
     "text": [
      "New output is:  [[0.5]]\n",
      "The accuracy is very excellent!! \n"
     ]
    }
   ],
   "source": [
    "input_train=np.array([[0,1,1],\n",
    "                       [0,0,1],\n",
    "                       [1,0,1]])\n",
    "output_train=np.array([[1,0,1]]).T\n",
    "nn=neural()\n",
    "print(\"The input is:\",input_train)\n",
    "print(\"The Initial Weights is: \",nn.weights)\n",
    "print(\"output\",nn.predict(input_train))\n",
    "\n",
    "nn.training(input_train,output_train,15000)\n",
    "print(\"New output after training: \",nn.predict(input_train))\n",
    "\n",
    "print(\"The Weights after training is: \",nn.weights)\n",
    "x1 = int(input(\"Enter first input\"))\n",
    "x2 = int(input(\"Enter second input\"))\n",
    "x3 = int(input(\"Enter third input\"))\n",
    "print(\"New output is: \",nn.predict(np.array([[x1,x2,x3]])))\n",
    "print(\"The accuracy is very excellent!! \")"
   ]
  }
 ],
 "metadata": {
  "kernelspec": {
   "display_name": "Python 3 (ipykernel)",
   "language": "python",
   "name": "python3"
  },
  "language_info": {
   "codemirror_mode": {
    "name": "ipython",
    "version": 3
   },
   "file_extension": ".py",
   "mimetype": "text/x-python",
   "name": "python",
   "nbconvert_exporter": "python",
   "pygments_lexer": "ipython3",
   "version": "3.9.7"
  }
 },
 "nbformat": 4,
 "nbformat_minor": 5
}
