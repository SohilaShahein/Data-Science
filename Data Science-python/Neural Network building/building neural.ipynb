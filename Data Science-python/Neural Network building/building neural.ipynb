{
 "cells": [
  {
   "cell_type": "code",
   "execution_count": 1,
   "id": "845820bb-b171-488f-b897-c60786391e44",
   "metadata": {},
   "outputs": [],
   "source": [
    "#import libraries\n",
    "import numpy as np\n",
    "import matplotlib.pyplot as plt"
   ]
  },
  {
   "cell_type": "code",
   "execution_count": 8,
   "id": "76cefae9-6cab-453e-a268-b39291a6154e",
   "metadata": {},
   "outputs": [],
   "source": [
    "x = np.array([[0,0,1],[0,1,1],[1,0,1],[1,1,1]])\n",
    "y = np.array([[0,0,1,1]]).T\n",
    "np.random.seed(1)\n",
    "weights = 2*np.random.random((3,1)) -1\n",
    "def nlinear(x,deriv=False):\n",
    "    if deriv==True:\n",
    "        return x*(1-x)\n",
    "    return 1/1+np.exp(-x)\n",
    "\n",
    "for i in range(1000):\n",
    "    \n",
    "    Layer0 = x\n",
    "   \n",
    "    Layer1 = nlinear(np.dot(Layer0,weights))\n",
    "    Error_layer1 = y-Layer1\n",
    "    delta_rule = Error_layer1*nlinear(Layer1,True)\n",
    "    weights+=np.dot(Layer0.T,delta_rule)\n",
    "    \n",
    "    \n",
    "\n"
   ]
  },
  {
   "cell_type": "code",
   "execution_count": 9,
   "id": "72cdaee2-bba7-47a3-a6e6-26cd0357600a",
   "metadata": {},
   "outputs": [
    {
     "name": "stdout",
     "output_type": "stream",
     "text": [
      "Prediction output: [[1.]\n",
      " [1.]\n",
      " [1.]\n",
      " [1.]]\n",
      "Actual output: [[0]\n",
      " [0]\n",
      " [1]\n",
      " [1]]\n"
     ]
    }
   ],
   "source": [
    "print(\"Prediction output:\",Layer1)\n",
    "print(\"Actual output:\",y)\n",
    "\n"
   ]
  }
 ],
 "metadata": {
  "kernelspec": {
   "display_name": "Python 3 (ipykernel)",
   "language": "python",
   "name": "python3"
  },
  "language_info": {
   "codemirror_mode": {
    "name": "ipython",
    "version": 3
   },
   "file_extension": ".py",
   "mimetype": "text/x-python",
   "name": "python",
   "nbconvert_exporter": "python",
   "pygments_lexer": "ipython3",
   "version": "3.9.7"
  }
 },
 "nbformat": 4,
 "nbformat_minor": 5
}
